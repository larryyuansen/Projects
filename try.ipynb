{
 "cells": [
  {
   "cell_type": "code",
   "execution_count": 43,
   "id": "rocky-criminal",
   "metadata": {},
   "outputs": [],
   "source": [
    "# import scapy\n",
    "from scapy.all import *"
   ]
  },
  {
   "cell_type": "code",
   "execution_count": 42,
   "id": "moral-korea",
   "metadata": {},
   "outputs": [
    {
     "name": "stdout",
     "output_type": "stream",
     "text": [
      "46\n"
     ]
    }
   ],
   "source": [
    "# read from input file\n",
    "fileName = \"Sony.txt\"\n",
    "file1 = open(fileName,\"r+\")\n",
    "sonyIPs = file1.read().splitlines()\n",
    "file1.close()\n",
    "\n",
    "# Remove Duplicate IP address\n",
    "sonyIPs = list(dict.fromkeys(sonyIPs))\n",
    "\n",
    "print(len(sonyIPs))\n",
    "# sonyIPs.sort()\n",
    "# sonyIPs"
   ]
  },
  {
   "cell_type": "code",
   "execution_count": 27,
   "id": "vanilla-channel",
   "metadata": {},
   "outputs": [
    {
     "data": {
      "text/plain": [
       "<IP  src=13.211.95.147 |>"
      ]
     },
     "execution_count": 27,
     "metadata": {},
     "output_type": "execute_result"
    }
   ],
   "source": [
    "# Part 1\n",
    "pkt = IP(src = sonyIPs[1])\n",
    "pkt"
   ]
  }
 ],
 "metadata": {
  "kernelspec": {
   "display_name": "Python 3",
   "language": "python",
   "name": "python3"
  },
  "language_info": {
   "codemirror_mode": {
    "name": "ipython",
    "version": 3
   },
   "file_extension": ".py",
   "mimetype": "text/x-python",
   "name": "python",
   "nbconvert_exporter": "python",
   "pygments_lexer": "ipython3",
   "version": "3.8.0"
  }
 },
 "nbformat": 4,
 "nbformat_minor": 5
}
